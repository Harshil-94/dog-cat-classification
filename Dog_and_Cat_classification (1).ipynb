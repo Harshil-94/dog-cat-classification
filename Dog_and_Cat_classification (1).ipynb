{
  "nbformat": 4,
  "nbformat_minor": 0,
  "metadata": {
    "colab": {
      "provenance": []
    },
    "kernelspec": {
      "name": "python3",
      "display_name": "Python 3"
    },
    "language_info": {
      "name": "python"
    },
    "accelerator": "GPU",
    "gpuClass": "standard"
  },
  "cells": [
    {
      "cell_type": "code",
      "execution_count": 1,
      "metadata": {
        "colab": {
          "base_uri": "https://localhost:8080/"
        },
        "id": "a9sfxJMOrl4h",
        "outputId": "89aa9ddb-2bb1-4a26-c4f6-b636212d68fd"
      },
      "outputs": [
        {
          "output_type": "stream",
          "name": "stdout",
          "text": [
            "Cloning into 'GV_DeepLearning'...\n",
            "remote: Enumerating objects: 1607, done.\u001b[K\n",
            "remote: Counting objects: 100% (18/18), done.\u001b[K\n",
            "remote: Compressing objects: 100% (12/12), done.\u001b[K\n",
            "remote: Total 1607 (delta 4), reused 15 (delta 2), pack-reused 1589\u001b[K\n",
            "Receiving objects: 100% (1607/1607), 29.99 MiB | 15.58 MiB/s, done.\n",
            "Resolving deltas: 100% (92/92), done.\n"
          ]
        }
      ],
      "source": [
        "  !git clone \"https://github.com/vadivukar/GV_DeepLearning/\""
      ]
    },
    {
      "cell_type": "code",
      "source": [
        "\n",
        "\n",
        "!git clone https://github.com/laxmimerit/dog-cat-full-dataset"
      ],
      "metadata": {
        "colab": {
          "base_uri": "https://localhost:8080/"
        },
        "id": "yhSw_Wy3rzVq",
        "outputId": "0d95ab92-1c6b-4a24-d8f7-c697170010e6"
      },
      "execution_count": 2,
      "outputs": [
        {
          "output_type": "stream",
          "name": "stdout",
          "text": [
            "Cloning into 'dog-cat-full-dataset'...\n",
            "remote: Enumerating objects: 25027, done.\u001b[K\n",
            "remote: Total 25027 (delta 0), reused 0 (delta 0), pack-reused 25027\u001b[K\n",
            "Receiving objects: 100% (25027/25027), 541.62 MiB | 18.00 MiB/s, done.\n",
            "Resolving deltas: 100% (5/5), done.\n",
            "Updating files: 100% (25001/25001), done.\n"
          ]
        }
      ]
    },
    {
      "cell_type": "code",
      "source": [
        "import tensorflow as tf\n",
        "from keras.preprocessing.image import ImageDataGenerator"
      ],
      "metadata": {
        "id": "aQPwK2Psr8IN"
      },
      "execution_count": 3,
      "outputs": []
    },
    {
      "cell_type": "code",
      "source": [
        "\n",
        "import pandas as pd"
      ],
      "metadata": {
        "id": "V7Vz9xvBsE8T"
      },
      "execution_count": 4,
      "outputs": []
    },
    {
      "cell_type": "code",
      "source": [
        "\n",
        "train_datagen = ImageDataGenerator(rescale = 1./255,\n",
        "                                   shear_range = 0.2,\n",
        "                                   zoom_range = 0.2,\n",
        "                                   horizontal_flip = True)\n",
        "\n",
        "training_set = train_datagen.flow_from_directory('/content/dog-cat-full-dataset/data/train',\n",
        "                                                 target_size = (64, 64),\n",
        "                                                 batch_size = 32,\n",
        "                                                 class_mode = 'binary')\n"
      ],
      "metadata": {
        "colab": {
          "base_uri": "https://localhost:8080/"
        },
        "id": "MTYm_7cPsJuS",
        "outputId": "24a40e78-ab85-43b5-f2ca-eb0098aa5f87"
      },
      "execution_count": 5,
      "outputs": [
        {
          "output_type": "stream",
          "name": "stdout",
          "text": [
            "Found 20000 images belonging to 2 classes.\n"
          ]
        }
      ]
    },
    {
      "cell_type": "code",
      "source": [
        "\n",
        "test_datagen = ImageDataGenerator(rescale = 1./255)\n",
        "test_set = test_datagen.flow_from_directory('/content/dog-cat-full-dataset/data/test',\n",
        "                                            target_size = (64, 64),\n",
        "                                            batch_size = 32,\n",
        "                                            class_mode = 'binary')"
      ],
      "metadata": {
        "colab": {
          "base_uri": "https://localhost:8080/"
        },
        "id": "QO611ByQscmi",
        "outputId": "27d61a07-2212-43e3-b9b7-42f256f08c4d"
      },
      "execution_count": 6,
      "outputs": [
        {
          "output_type": "stream",
          "name": "stdout",
          "text": [
            "Found 5000 images belonging to 2 classes.\n"
          ]
        }
      ]
    },
    {
      "cell_type": "code",
      "source": [
        "\n",
        "cnn = tf.keras.models.Sequential()"
      ],
      "metadata": {
        "id": "vYa237yislYw"
      },
      "execution_count": 7,
      "outputs": []
    },
    {
      "cell_type": "code",
      "source": [
        "cnn.add(tf.keras.layers.Conv2D(filters=32, kernel_size=3, activation='relu', \n",
        "                               input_shape=[64, 64, 3]))"
      ],
      "metadata": {
        "id": "ijnKmE02sooQ"
      },
      "execution_count": 8,
      "outputs": []
    },
    {
      "cell_type": "code",
      "source": [
        "cnn.add(tf.keras.layers.MaxPool2D(pool_size=2, strides=2))"
      ],
      "metadata": {
        "id": "356VERnxsp9v"
      },
      "execution_count": 9,
      "outputs": []
    },
    {
      "cell_type": "code",
      "source": [
        "cnn.add(tf.keras.layers.Conv2D(filters=32, kernel_size=3, activation='relu'))\n",
        "cnn.add(tf.keras.layers.MaxPool2D(pool_size=2, strides=2))\n",
        "\n",
        "cnn.add(tf.keras.layers.Flatten())\n",
        "\n",
        "cnn.add(tf.keras.layers.Dense(units=128, activation='relu'))\n",
        "cnn.add(tf.keras.layers.Dense(units=1, activation='sigmoid'))"
      ],
      "metadata": {
        "id": "-rFe6Z2hsshT"
      },
      "execution_count": 10,
      "outputs": []
    },
    {
      "cell_type": "code",
      "source": [
        "cnn.compile(optimizer = 'adam', loss = 'binary_crossentropy', metrics = ['accuracy'])\n",
        "     "
      ],
      "metadata": {
        "id": "BWYN0Z27s_fH"
      },
      "execution_count": 11,
      "outputs": []
    },
    {
      "cell_type": "code",
      "source": [
        "cnn.fit(x = training_set, validation_data = test_set, epochs = 30)"
      ],
      "metadata": {
        "colab": {
          "base_uri": "https://localhost:8080/"
        },
        "id": "9s7CaQUItES9",
        "outputId": "f125df54-a331-4761-b5e6-a509ee95f3fc"
      },
      "execution_count": 12,
      "outputs": [
        {
          "output_type": "stream",
          "name": "stdout",
          "text": [
            "Epoch 1/30\n",
            "625/625 [==============================] - 99s 140ms/step - loss: 0.6124 - accuracy: 0.6596 - val_loss: 0.5555 - val_accuracy: 0.7070\n",
            "Epoch 2/30\n",
            "625/625 [==============================] - 86s 137ms/step - loss: 0.5297 - accuracy: 0.7352 - val_loss: 0.4862 - val_accuracy: 0.7694\n",
            "Epoch 3/30\n",
            "625/625 [==============================] - 93s 148ms/step - loss: 0.4877 - accuracy: 0.7663 - val_loss: 0.4764 - val_accuracy: 0.7714\n",
            "Epoch 4/30\n",
            "625/625 [==============================] - 86s 137ms/step - loss: 0.4620 - accuracy: 0.7807 - val_loss: 0.4436 - val_accuracy: 0.7972\n",
            "Epoch 5/30\n",
            "625/625 [==============================] - 85s 136ms/step - loss: 0.4379 - accuracy: 0.7959 - val_loss: 0.4172 - val_accuracy: 0.8048\n",
            "Epoch 6/30\n",
            "625/625 [==============================] - 85s 136ms/step - loss: 0.4224 - accuracy: 0.8039 - val_loss: 0.4796 - val_accuracy: 0.7744\n",
            "Epoch 7/30\n",
            "625/625 [==============================] - 85s 135ms/step - loss: 0.4075 - accuracy: 0.8112 - val_loss: 0.4199 - val_accuracy: 0.8040\n",
            "Epoch 8/30\n",
            "625/625 [==============================] - 84s 134ms/step - loss: 0.3894 - accuracy: 0.8238 - val_loss: 0.4672 - val_accuracy: 0.7764\n",
            "Epoch 9/30\n",
            "625/625 [==============================] - 85s 136ms/step - loss: 0.3763 - accuracy: 0.8296 - val_loss: 0.3862 - val_accuracy: 0.8310\n",
            "Epoch 10/30\n",
            "625/625 [==============================] - 85s 135ms/step - loss: 0.3635 - accuracy: 0.8356 - val_loss: 0.4039 - val_accuracy: 0.8186\n",
            "Epoch 11/30\n",
            "625/625 [==============================] - 85s 136ms/step - loss: 0.3486 - accuracy: 0.8417 - val_loss: 0.4019 - val_accuracy: 0.8210\n",
            "Epoch 12/30\n",
            "625/625 [==============================] - 85s 136ms/step - loss: 0.3347 - accuracy: 0.8543 - val_loss: 0.4094 - val_accuracy: 0.8266\n",
            "Epoch 13/30\n",
            "625/625 [==============================] - 93s 148ms/step - loss: 0.3245 - accuracy: 0.8570 - val_loss: 0.4291 - val_accuracy: 0.8088\n",
            "Epoch 14/30\n",
            "625/625 [==============================] - 85s 136ms/step - loss: 0.3113 - accuracy: 0.8623 - val_loss: 0.3893 - val_accuracy: 0.8296\n",
            "Epoch 15/30\n",
            "625/625 [==============================] - 85s 136ms/step - loss: 0.3051 - accuracy: 0.8659 - val_loss: 0.3756 - val_accuracy: 0.8312\n",
            "Epoch 16/30\n",
            "625/625 [==============================] - 85s 136ms/step - loss: 0.2912 - accuracy: 0.8737 - val_loss: 0.4080 - val_accuracy: 0.8242\n",
            "Epoch 17/30\n",
            "625/625 [==============================] - 93s 148ms/step - loss: 0.2839 - accuracy: 0.8777 - val_loss: 0.4074 - val_accuracy: 0.8276\n",
            "Epoch 18/30\n",
            "625/625 [==============================] - 85s 136ms/step - loss: 0.2725 - accuracy: 0.8825 - val_loss: 0.3909 - val_accuracy: 0.8406\n",
            "Epoch 19/30\n",
            "625/625 [==============================] - 88s 140ms/step - loss: 0.2561 - accuracy: 0.8920 - val_loss: 0.4582 - val_accuracy: 0.8158\n",
            "Epoch 20/30\n",
            "625/625 [==============================] - 86s 137ms/step - loss: 0.2566 - accuracy: 0.8900 - val_loss: 0.4647 - val_accuracy: 0.8188\n",
            "Epoch 21/30\n",
            "625/625 [==============================] - 85s 136ms/step - loss: 0.2381 - accuracy: 0.8986 - val_loss: 0.4472 - val_accuracy: 0.8306\n",
            "Epoch 22/30\n",
            "625/625 [==============================] - 85s 136ms/step - loss: 0.2317 - accuracy: 0.9024 - val_loss: 0.4180 - val_accuracy: 0.8344\n",
            "Epoch 23/30\n",
            "625/625 [==============================] - 93s 149ms/step - loss: 0.2250 - accuracy: 0.9068 - val_loss: 0.4522 - val_accuracy: 0.8368\n",
            "Epoch 24/30\n",
            "625/625 [==============================] - 85s 136ms/step - loss: 0.2188 - accuracy: 0.9101 - val_loss: 0.4516 - val_accuracy: 0.8306\n",
            "Epoch 25/30\n",
            "625/625 [==============================] - 85s 135ms/step - loss: 0.2065 - accuracy: 0.9155 - val_loss: 0.4521 - val_accuracy: 0.8326\n",
            "Epoch 26/30\n",
            "625/625 [==============================] - 85s 136ms/step - loss: 0.1953 - accuracy: 0.9203 - val_loss: 0.4663 - val_accuracy: 0.8282\n",
            "Epoch 27/30\n",
            "625/625 [==============================] - 93s 148ms/step - loss: 0.1921 - accuracy: 0.9214 - val_loss: 0.4624 - val_accuracy: 0.8310\n",
            "Epoch 28/30\n",
            "625/625 [==============================] - 85s 136ms/step - loss: 0.1877 - accuracy: 0.9241 - val_loss: 0.4627 - val_accuracy: 0.8386\n",
            "Epoch 29/30\n",
            "625/625 [==============================] - 85s 136ms/step - loss: 0.1859 - accuracy: 0.9241 - val_loss: 0.5632 - val_accuracy: 0.8110\n",
            "Epoch 30/30\n",
            "625/625 [==============================] - 85s 135ms/step - loss: 0.1804 - accuracy: 0.9265 - val_loss: 0.4573 - val_accuracy: 0.8378\n"
          ]
        },
        {
          "output_type": "execute_result",
          "data": {
            "text/plain": [
              "<keras.callbacks.History at 0x7fefde65fc40>"
            ]
          },
          "metadata": {},
          "execution_count": 12
        }
      ]
    }
  ]
}